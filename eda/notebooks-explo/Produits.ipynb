{
 "cells": [
  {
   "cell_type": "code",
   "execution_count": 20,
   "metadata": {
    "collapsed": true
   },
   "outputs": [],
   "source": [
    "import pandas as pd\n",
    "import numpy as np\n",
    "import glob\n",
    "import os"
   ]
  },
  {
   "cell_type": "markdown",
   "metadata": {},
   "source": [
    "## Base Produits"
   ]
  },
  {
   "cell_type": "code",
   "execution_count": 2,
   "metadata": {
    "collapsed": true
   },
   "outputs": [],
   "source": [
    "df = pd.read_csv('/Volumes/NO NAME/Phenix/data/phenix/input/produits.csv', sep=';', low_memory=False)"
   ]
  },
  {
   "cell_type": "markdown",
   "metadata": {},
   "source": [
    "Attention : beaucoup de doublons dans la base Produits"
   ]
  },
  {
   "cell_type": "code",
   "execution_count": 11,
   "metadata": {
    "collapsed": false
   },
   "outputs": [
    {
     "name": "stdout",
     "output_type": "stream",
     "text": [
      "Nombre de Id uniques :  946612\n",
      "Nombre de Ean uniques :  472880\n",
      "Nombre de Noms uniques :  495156\n"
     ]
    }
   ],
   "source": [
    "print('Nombre de Id uniques : ', df.Id.nunique())\n",
    "print('Nombre de Ean uniques : ', df.Ean.nunique())\n",
    "print('Nombre de Noms uniques : ', df.Nom.nunique())"
   ]
  },
  {
   "cell_type": "code",
   "execution_count": 28,
   "metadata": {
    "collapsed": false
   },
   "outputs": [
    {
     "name": "stdout",
     "output_type": "stream",
     "text": [
      "% de produits avec Nom null : 0.0 %\n",
      "% de produits avec Nom vide : 0.0 %\n",
      "% de produits avec Nom court/inutilisable : 0.08 %\n",
      "\n",
      "['CHINOIS ROND CHOCOLAT' 'TRESSE PEPITES CHOCOLAT' 'TRESSE NATURE'\n",
      " 'TRESSE PRALINE 500G' 'VIENNOIS.PEPITES CHOCO X4'\n",
      " 'TRESSE PEPITES CHOCOLAT 400G' 'TRESSE NATURE 400G' 'KOUGLOFF'\n",
      " 'BRIOCHE CHOCO PUR B.+CREME PAT.' 'BRIOCHE AUX FRUITS PB +CREME P.'\n",
      " 'BAGUETTE 62X64CM EN CARTON' 'BRIOCHE BEUR.TETE 50G MOULE C.'\n",
      " 'MINI CHAUSSON BEURRE 24% 35G' 'TRIANGLE BEURRE AMAND 84X100GR'\n",
      " 'CHAUSSON POMMES BEUR.RAYE 100G' 'SUISSES LONGUES 120G'\n",
      " 'CROISSANT AU TOURNESOL 55G' 'MINI DUO CHOCO/NOISETTE 35GPAF'\n",
      " 'PAIN CHOCO 2 BAR.TOURNESOL 65G' 'TORSADE BEURRE PEPITES 100G']\n"
     ]
    }
   ],
   "source": [
    "print('% de produits avec Nom null : {} %'.format(df.Nom.isnull().sum() / len(df) * 100))\n",
    "\n",
    "print('% de produits avec Nom vide : {} %'.format(len(df[df.Nom.str.len() == 0]) / len(df) * 100))\n",
    "\n",
    "print('% de produits avec Nom court/inutilisable : {:.2f} %'.format(len(df[df.Nom.str.len() < 5]) / len(df) * 100))\n",
    "\n",
    "print()\n",
    "\n",
    "print(df.Nom.unique()[:20])"
   ]
  },
  {
   "cell_type": "markdown",
   "metadata": {},
   "source": [
    "100% des produits ont un nom associé ('Mini duo chocolat' etc.) => ca doit etre largement faisable de construire un algo de prediction de categorie (type Bag-of-Words) si necessaire."
   ]
  },
  {
   "cell_type": "markdown",
   "metadata": {},
   "source": [
    "## % de valeurs null pour chaque dimension"
   ]
  },
  {
   "cell_type": "code",
   "execution_count": 22,
   "metadata": {
    "collapsed": false
   },
   "outputs": [
    {
     "name": "stdout",
     "output_type": "stream",
     "text": [
      "\n",
      "\n",
      "categorieProduits.csv\n",
      "\n",
      "% null            col\n",
      "   0.0             Id\n",
      " 100.0     Descriptif\n",
      "   0.0  IsAlimentaire\n",
      "   0.0    IsDangereux\n",
      "   0.0        IsFresh\n",
      "   0.0       IsFrozen\n",
      "   0.0   IsPerishable\n",
      "   0.0            Nom\n",
      "   0.0   IconCssClass\n",
      " 100.0      Compte_Id\n",
      "\n",
      "\n",
      "commandeProduits.csv\n",
      "\n",
      "% null              col\n",
      "  0.000000               Id\n",
      "100.000000              Dlc\n",
      "  0.000000   QuantiteTotale\n",
      "  0.012375    QuantiteUnite\n",
      "  0.000000   QuantiteValeur\n",
      "  0.000000      Commande_Id\n",
      "  0.000000  OffreProduit_Id\n",
      "  0.000027      Tracking_Id\n",
      "  0.000000     MontantTotal\n",
      " 99.988386           Weight\n",
      " 99.983980        Alerte_Id\n",
      "\n",
      "\n",
      "commandes.csv\n",
      "\n",
      "% null              col\n",
      " 0.000000               Id\n",
      " 0.000000     DateCommande\n",
      "99.996920       Descriptif\n",
      " 0.000000   EstReceptionne\n",
      "99.996920          Libelle\n",
      "99.992301  MotifAnnulation\n",
      " 0.000000           Statut\n",
      " 0.000000         Offre_Id\n",
      " 0.000000     Recepteur_Id\n",
      "\n",
      "\n",
      "comptes.csv\n",
      "\n",
      "% null                    col\n",
      " 0.000000                     Id\n",
      "99.206034  Adresse_AdresseLigne1\n",
      "98.451767  Adresse_AdresseLigne2\n",
      " 2.421596  Adresse_AdresseLigne3\n",
      " 1.111552     Adresse_CodePostal\n",
      " 0.000000          Adresse_Ville\n",
      "94.958317        MoyenLogistique\n",
      " 0.000000                  Email\n",
      " 0.000000               IsValide\n",
      " 0.000000               Latitude\n",
      " 0.000000              Longitude\n",
      " 0.000000                    Nom\n",
      " 0.000000             TypeCompte\n",
      "77.371973           NomPourCerfa\n",
      "90.432711         DateOfCreation\n",
      "40.452561          TypeClient_Id\n",
      "\n",
      "\n",
      "offreproduits.csv\n",
      "\n",
      "% null                   col\n",
      "  0.000000                    Id\n",
      "  0.000000          EstInsecable\n",
      "  0.000000              EstUnDon\n",
      "  0.000904         QuantiteUnite\n",
      "  0.000000        QuantiteValeur\n",
      "  0.000000  QuantiteValeurParLot\n",
      "  0.000000              Offre_Id\n",
      "  0.000000            Produit_Id\n",
      " 99.761372       CommandeMinimum\n",
      " 99.760824       CommandeMaximum\n",
      " 99.999042           DateDlcDluo\n",
      "  0.000000           DlcDluoFlag\n",
      "100.000000              ImageUrl\n",
      "\n",
      "\n",
      "offres.csv\n",
      "\n",
      "% null                             col\n",
      " 0.000000                              Id\n",
      " 0.000000                    CreationDate\n",
      " 0.000000                       DateDebut\n",
      " 0.000000                         DateFin\n",
      "97.374928                      Descriptif\n",
      "97.397821              InstructionRetrait\n",
      " 0.000000                IsOpenRecepteurs\n",
      "99.403254                         Libelle\n",
      " 0.000000                LivraisonAssuree\n",
      " 0.000000                    MaxRecepteur\n",
      "16.454015  PertinentProductsDisplayString\n",
      " 0.000000                          Statut\n",
      " 0.000000                       Compte_Id\n",
      " 0.000000           IsForAssociationCerfa\n",
      "83.368945                   DateReception\n",
      "99.769543                           Titre\n",
      " 0.000000             IsForAssociationRUP\n",
      " 0.000000                     IsInsecable\n",
      "\n",
      "\n",
      "produits.csv\n",
      "\n",
      "% null                            col\n",
      "  0.000000                             Id\n",
      "  0.000000  Categorie_CategorieProduit_Id\n",
      "  0.015423               Compte_Compte_Id\n",
      "100.000000                 DateExpiration\n",
      " 99.987957                     Descriptif\n",
      "  0.004226                            Ean\n",
      "100.000000                    GrandeImage\n",
      "  0.000000                       IsFailed\n",
      "  0.000000                  IsSetManually\n",
      " 99.984682                         Marque\n",
      "  0.000000                            Nom\n",
      "100.000000                    PetiteImage\n",
      "  0.000000                         Statut\n",
      " 99.991126                          Photo\n",
      " 99.966090                  PoidsUnitaire\n"
     ]
    }
   ],
   "source": [
    "def check_null(filename):\n",
    "\n",
    "    print()\n",
    "    print()\n",
    "    print(os.path.basename(filename))\n",
    "    print()\n",
    "    df = pd.read_csv(filename, sep=';', low_memory=False)\n",
    "    null_dict = []\n",
    "    for col in df.columns:\n",
    "        null_perc = df[col].isnull().sum() / len(df) * 100\n",
    "        null_dict.append({'col': col, '% null': null_perc})\n",
    "    print(pd.DataFrame(null_dict).to_string(index=False))\n",
    "\n",
    "    \n",
    "filenames = glob.glob('/Volumes/NO NAME/Phenix/data/phenix/input/*csv')\n",
    "for filename in filenames:\n",
    "    check_null(filename)"
   ]
  },
  {
   "cell_type": "code",
   "execution_count": null,
   "metadata": {
    "collapsed": true
   },
   "outputs": [],
   "source": []
  }
 ],
 "metadata": {
  "anaconda-cloud": {},
  "kernelspec": {
   "display_name": "Python [conda env:miniconda3]",
   "language": "python",
   "name": "conda-env-miniconda3-py"
  },
  "language_info": {
   "codemirror_mode": {
    "name": "ipython",
    "version": 3
   },
   "file_extension": ".py",
   "mimetype": "text/x-python",
   "name": "python",
   "nbconvert_exporter": "python",
   "pygments_lexer": "ipython3",
   "version": "3.5.2"
  }
 },
 "nbformat": 4,
 "nbformat_minor": 1
}
